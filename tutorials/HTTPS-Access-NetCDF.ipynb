{
 "cells": [
  {
   "cell_type": "markdown",
   "id": "be447b71-afdf-4c4c-8851-47feb0e993d6",
   "metadata": {},
   "source": [
    "# Accessing NetCDF - HTTPS Example\n",
    "\n",
    "## Summary\n",
    "Demonstrate access of MERRA-2 .... using HTTPS.\n",
    "\n",
    "## Requirements\n",
    "- Earthdata Login\n",
    "- `.netrc` file\n",
    "\n",
    "## Learning Objectives\n",
    "- HTTPS access\n",
    "\n",
    "## MERRA-2: Hourly M2T1NXSLV\n",
    "We will use a single MERRA-2 file/granule from a GES DISC cloud URL"
   ]
  },
  {
   "cell_type": "markdown",
   "id": "9129d3e1-253d-48ff-9361-087f58cdf98e",
   "metadata": {},
   "source": [
    "### Import packages"
   ]
  },
  {
   "cell_type": "code",
   "execution_count": 9,
   "id": "0512785c-14aa-426b-b6fc-9040d9b0367b",
   "metadata": {},
   "outputs": [],
   "source": [
    "import os\n",
    "import requests\n",
    "import xarray as xr"
   ]
  },
  {
   "cell_type": "markdown",
   "id": "c32c1ea0-3fa3-44d8-962b-575fecc8a502",
   "metadata": {},
   "source": [
    "### Specify the HTTPS path to the granule"
   ]
  },
  {
   "cell_type": "code",
   "execution_count": 16,
   "id": "1e99fa7c-13ed-4018-b7f1-fe56b2ecc66f",
   "metadata": {},
   "outputs": [],
   "source": [
    "#Test\n",
    "# This from Earthdata Search for GES DISC holdings Available in AWS Cloud\n",
    "HTTPS_URL = 'https://data.gesdisc.earthdata.nasa.gov/data/MERRA2/M2T1NXSLV.5.12.4/2021/05/MERRA2_400.tavg1_2d_slv_Nx.20210531.nc4'\n",
    "\n",
    "# Try using the earthdatacloud URL\n",
    "#https_url = 'https://data.gesdisc.earthdatacloud.nasa.gov/data/MERRA2/M2T1NXSLV.5.12.4/2021/05/MERRA2_400.tavg1_2d_slv_Nx.20210531.nc4'"
   ]
  },
  {
   "cell_type": "code",
   "execution_count": 17,
   "id": "4bab941f-8dc9-4891-867d-0b8689964db5",
   "metadata": {},
   "outputs": [
    {
     "name": "stdout",
     "output_type": "stream",
     "text": [
      "contents of URL written to MERRA2_400.tavg1_2d_slv_Nx.20210531.nc4\n"
     ]
    }
   ],
   "source": [
    "# Use requests library to get files from HTTPS URL\n",
    "   \n",
    "# Set the FILENAME string to the data file name, the LABEL keyword value, or any customized name. \n",
    "FILENAME = 'MERRA2_400.tavg1_2d_slv_Nx.20210531.nc4'\n",
    "\n",
    "result = requests.get(HTTPS_URL)\n",
    "try:\n",
    "    result.raise_for_status()\n",
    "    f = open(FILENAME,'wb')\n",
    "    f.write(result.content)\n",
    "    f.close()\n",
    "    print('contents of URL written to '+FILENAME)\n",
    "except:\n",
    "    print('requests.get() returned an error code '+str(result.status_code))\n",
    "\n",
    "#merra_ds = xr.open_dataset(https_url) "
   ]
  },
  {
   "cell_type": "code",
   "execution_count": null,
   "id": "c7d67d64-5f74-4dd0-982e-7e43d2ce0c5c",
   "metadata": {},
   "outputs": [],
   "source": [
    "merra_ds = xr.open_dataset(FILENAME)"
   ]
  },
  {
   "cell_type": "code",
   "execution_count": null,
   "id": "75fe21c8-0766-4867-8ea4-0995d4f849e8",
   "metadata": {},
   "outputs": [],
   "source": []
  }
 ],
 "metadata": {
  "kernelspec": {
   "display_name": "Python 3 (ipykernel)",
   "language": "python",
   "name": "python3"
  },
  "language_info": {
   "codemirror_mode": {
    "name": "ipython",
    "version": 3
   },
   "file_extension": ".py",
   "mimetype": "text/x-python",
   "name": "python",
   "nbconvert_exporter": "python",
   "pygments_lexer": "ipython3",
   "version": "3.9.7"
  }
 },
 "nbformat": 4,
 "nbformat_minor": 5
}
