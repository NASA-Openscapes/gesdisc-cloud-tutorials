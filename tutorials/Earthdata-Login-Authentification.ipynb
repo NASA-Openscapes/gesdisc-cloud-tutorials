{
 "cells": [
  {
   "cell_type": "markdown",
   "id": "aae93365-a163-4413-95a4-5be6ff8394c9",
   "metadata": {},
   "source": [
    "# Authenticating with Earthdata Login\n",
    "## Summary\n",
    "This tutorial provides code for creating a hidden `.netrc` or `netrc_` file that holds Earthdata Login credentials in your home directory. This file is necessary to access NASA Earthdata assets from a scripting environment, like Python. \n",
    "\n",
    "## Earthdata Login\n",
    "An Earthdata Login account is required to access data, as well as discover restricted data, from the NASA Earthdata system. If you do not have an Earthdata Login account, please visit [https://urs.earthdata.nasa.gov](https://urs.earthdata.nasa.gov) to register and manager your Earthdata Login account. The account is free to create and takes just minutes to set up.\n",
    "\n",
    "## Authenticating via netrc File\n",
    "You will need a netrc file containing your NASA Earthdata Login credentials in order to execute the code in these tutorials. \n",
    "\n",
    "### Option 1: Manually create netrc file\n",
    "\n",
    "You may choose to manually create a netrc file in a text editor and save it in your home directory. An example of the contents of the netrc file are shown below:\n",
    "\n",
    "```\n",
    "machine urs.earthdata.nasa.gov\n",
    "login <USERNAME>\n",
    "password <PASSWORD>\n",
    "```\n",
    "    \n",
    "`<USERNAME>` and `<PASSWORD>` are replaced with your actual Earthdata Login username and password. \n",
    "    \n",
    "Because this file contains sensitive information, make sure the file is 1) hidden, and 2) file permissions are changed to....... (what should the permissions be?)\n",
    "\n",
    "### Option 2: Auto-generate netrc file with code\n",
    "\n",
    "**Import required packages**"
   ]
  },
  {
   "cell_type": "code",
   "execution_count": 2,
   "id": "b2cb8e18-a958-45c6-94f2-b3ffcfd7b597",
   "metadata": {},
   "outputs": [],
   "source": [
    "from netrc import netrc\n",
    "from subprocess import Popen\n",
    "from platform import system\n",
    "from getpass import getpass\n",
    "import os"
   ]
  },
  {
   "cell_type": "markdown",
   "id": "a9f9c3d9-15f8-4e02-8b68-30a618656b38",
   "metadata": {},
   "source": [
    "The code below will:\n",
    "1. Check which operating system (OS) is being used to determine which netcrc file to check for or create\n",
    "    - Mac/Linux: .netrc\n",
    "    - Windows: _netrc\n",
    "2. Check if you already have a netrc file. And if so, verify if existing credentials are for the Earthdata endpoint\n",
    "3. Create a netrc file if one is not already present"
   ]
  },
  {
   "cell_type": "code",
   "execution_count": 4,
   "id": "fe1626a6-f070-4bcf-bfa7-f1a7c88600b8",
   "metadata": {},
   "outputs": [],
   "source": [
    "urs = 'urs.earthdata.nasa.gov'    # Earthdata URL endpoint for authentication\n",
    "prompts = ['Enter NASA Earthdata Login Username: ',\n",
    "           'Enter NASA Earthdata Login Password: ']\n",
    "\n",
    "# Determine the OS (Windows machines usually use a '_netrc' file)\n",
    "netrc_name = \"_netrc\" if system()==\"Windows\" else \".netrc\"\n",
    "\n",
    "# Determine if netrc file exists, and if so, if it includes NASA Earthdata Login Credentials\n",
    "try:\n",
    "    netrcDir = os.path.expanduser(f\"~/{netrc_name}\")\n",
    "    netrc(netrcDir).authenticators(urs)[0]\n",
    "    \n",
    "# Below, create a netrc file and prompt user for NASA Earthdata Login Username and Password\n",
    "except FileNotFoundError:\n",
    "    homeDir = os.path.expanduser(\"~\")\n",
    "    Popen('touch {0}{2} | echo machine {1} >> {0}{2}'.format(homeDir + os.sep, urs, netrc_name), shell=True)\n",
    "    Popen('echo login {} >> {}{}'.format(getpass(prompt=prompts[0]), homeDir + os.sep, netrc_name), shell=True)\n",
    "    Popen('echo \\'password {} \\'>> {}{}'.format(getpass(prompt=prompts[1]), homeDir + os.sep, netrc_name), shell=True)\n",
    "    # Set restrictive permissions\n",
    "    Popen('chmod 0600 {0}{1}'.format(homeDir + os.sep, netrc_name), shell=True)\n",
    "\n",
    "# Determine OS and edit netrc file if it exists but is not set up for NASA Earthdata Login\n",
    "except TypeError:\n",
    "    homeDir = os.path.expanduser(\"~\")\n",
    "    Popen('echo machine {1} >> {0}{2}'.format(homeDir + os.sep, urs, netrc_name), shell=True)\n",
    "    Popen('echo login {} >> {}{}'.format(getpass(prompt=prompts[0]), homeDir + os.sep, netrc_name), shell=True)\n",
    "    Popen('echo \\'password {} \\'>> {}{}'.format(getpass(prompt=prompts[1]), homeDir + os.sep, netrc_name), shell=True)"
   ]
  },
  {
   "cell_type": "markdown",
   "id": "c3701219-71a1-4935-82c1-6ea1cf4bdc39",
   "metadata": {},
   "source": [
    "**Check if the file was created**\n",
    "\n",
    "\n",
    "If the file was created, you'll see a `.netrc` file (or `_netcrc` for Windows OS) when listing all files in your home directory with the command below."
   ]
  },
  {
   "cell_type": "code",
   "execution_count": 5,
   "id": "83c02bb5-bfba-46e9-98a7-f48d18fcd627",
   "metadata": {
    "collapsed": true,
    "jupyter": {
     "outputs_hidden": true
    },
    "tags": []
   },
   "outputs": [
    {
     "name": "stdout",
     "output_type": "stream",
     "text": [
      "total 80\n",
      "drwxr-xr-x 16 jovyan jovyan 6144 Dec 10 19:51 .\n",
      "drwxr-xr-x  1 root   root     20 Oct  4 16:21 ..\n",
      "-rw-------  1 jovyan jovyan 2764 Nov 20 16:27 .bash_history\n",
      "drwxr-xr-x  7 jovyan jovyan 6144 Nov 17 20:42 .cache\n",
      "drwxrwsr-x  2 jovyan jovyan 6144 Oct 21 17:30 .conda\n",
      "drwxr-xr-x  4 jovyan jovyan 6144 Oct 29 16:38 .config\n",
      "drwxr-xr-x  2 jovyan jovyan 6144 Oct 21 17:30 .empty\n",
      "-rw-------  1 jovyan jovyan   76 Dec 10 19:51 .git-credentials\n",
      "-rw-r--r--  1 jovyan jovyan   94 Nov 15 19:16 .gitconfig\n",
      "drwxr-xr-x  2 jovyan jovyan 6144 Oct 21 16:41 .ipynb_checkpoints\n",
      "drwxr-xr-x  5 jovyan jovyan 6144 Oct 21 16:21 .ipython\n",
      "drwxr-xr-x  3 jovyan jovyan 6144 Oct 28 16:16 .jupyter\n",
      "-rw-r--r--  1 jovyan jovyan    0 Oct 20 22:45 .jupyter-server-log.txt\n",
      "drwxr-xr-x  3 jovyan jovyan 6144 Oct 20 22:45 .local\n",
      "-rw-------  1 jovyan jovyan   69 Nov 16 18:59 .netrc\n",
      "drwxr-xr-x 12 jovyan jovyan 6144 Nov 18 16:59 2021-Cloud-Hackathon\n",
      "drwxr-xr-x  4 jovyan jovyan 6144 Nov  4 18:46 ch_dryrun\n",
      "drwxr-xr-x  5 jovyan jovyan 6144 Dec 10 19:55 gd-cloud-access\n",
      "drwxr-xr-x  4 jovyan jovyan 6144 Nov 19 19:41 nch21-projects-counties-temp\n",
      "drwxr-xr-x  4 jovyan jovyan 6144 Nov 18 19:11 old_nch21-projects-countiestemp\n",
      "drwxr-xr-x  7 jovyan jovyan 6144 Nov 19 19:12 shared\n"
     ]
    }
   ],
   "source": [
    "!ls -al ~/"
   ]
  },
  {
   "cell_type": "markdown",
   "id": "cf794cc3-9483-46a6-8724-b75bbbda4f6e",
   "metadata": {},
   "source": [
    "If you want to view the contents of the netrc file from a Jupyter environment, click **File** on the top toolbar, select **Open from Path...**, type **.netrc**, and click **Open**. The `.netrc` file will open within the text editor."
   ]
  },
  {
   "cell_type": "code",
   "execution_count": null,
   "id": "932f149e-02f6-4417-a1b7-3fdb7a407305",
   "metadata": {},
   "outputs": [],
   "source": []
  }
 ],
 "metadata": {
  "kernelspec": {
   "display_name": "Python 3 (ipykernel)",
   "language": "python",
   "name": "python3"
  },
  "language_info": {
   "codemirror_mode": {
    "name": "ipython",
    "version": 3
   },
   "file_extension": ".py",
   "mimetype": "text/x-python",
   "name": "python",
   "nbconvert_exporter": "python",
   "pygments_lexer": "ipython3",
   "version": "3.9.7"
  }
 },
 "nbformat": 4,
 "nbformat_minor": 5
}
