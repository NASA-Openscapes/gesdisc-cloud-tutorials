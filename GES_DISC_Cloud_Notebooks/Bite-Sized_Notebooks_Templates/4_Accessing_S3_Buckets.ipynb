{
 "cells": [
  {
   "cell_type": "markdown",
   "id": "residential-greene",
   "metadata": {},
   "source": [
    "# Accessing S3 Buckets with S3FS\n",
    "### Author: Chris Battisto\n",
    "### Date Authored: 1-26-22\n",
    "\n",
    "### Timing\n",
    "\n",
    "Exercise: 5 minutes\n",
    "\n",
    "### Overview\n",
    "\n",
    "This notebook demonstrates accessing the GES DISC S3 bucket through the S3FS Python library.\n",
    "\n",
    "### Prerequisites\n",
    "\n",
    "This notebook was written using Python 3.8, and requires these libraries and files: \n",
    "\n",
    "- S3FS\n",
    "  - S3FS documentation: https://s3fs.readthedocs.io/en/latest/install.html\n",
    "\n",
    "Note: This notebook **will only run in an environment with <code>us-west-2</code> AWS region access**."
   ]
  },
  {
   "cell_type": "markdown",
   "id": "mediterranean-twenty",
   "metadata": {},
   "source": [
    "### Import Libraries"
   ]
  },
  {
   "cell_type": "code",
   "execution_count": null,
   "id": "desirable-association",
   "metadata": {},
   "outputs": [],
   "source": [
    "#"
   ]
  },
  {
   "cell_type": "markdown",
   "id": "radical-melbourne",
   "metadata": {},
   "source": [
    "### Get S3 Credentials"
   ]
  },
  {
   "cell_type": "code",
   "execution_count": null,
   "id": "knowing-cornwall",
   "metadata": {},
   "outputs": [],
   "source": [
    "#"
   ]
  },
  {
   "cell_type": "markdown",
   "id": "proud-foundation",
   "metadata": {},
   "source": [
    "### S3 Bucket Access with S3FS\n",
    "\n",
    "The S3FS library is a FUSE-based service that allows for users to \"mount\" an S3 bucket and access it as if it were stored locally. It uses the botocore backend, and greatly simplifies accessing cloud-hosted data with Earthdata credentials.\n",
    "\n",
    "Once our credentials are retrieved using our previously generated .netrc file, we can \"mount\" the filesystem by passing our token information. Remember that these credentials only last for one hour, and once this time passes, the kernel must be reset and the cell below will need to be re-run."
   ]
  },
  {
   "cell_type": "code",
   "execution_count": null,
   "id": "animal-explorer",
   "metadata": {},
   "outputs": [],
   "source": [
    "#"
   ]
  }
 ],
 "metadata": {
  "kernelspec": {
   "display_name": "Python 3",
   "language": "python",
   "name": "python3"
  },
  "language_info": {
   "codemirror_mode": {
    "name": "ipython",
    "version": 3
   },
   "file_extension": ".py",
   "mimetype": "text/x-python",
   "name": "python",
   "nbconvert_exporter": "python",
   "pygments_lexer": "ipython3",
   "version": "3.8.8"
  }
 },
 "nbformat": 4,
 "nbformat_minor": 5
}
