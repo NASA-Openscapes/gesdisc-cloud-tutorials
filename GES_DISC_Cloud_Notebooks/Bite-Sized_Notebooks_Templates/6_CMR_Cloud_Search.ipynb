{
 "cells": [
  {
   "cell_type": "markdown",
   "id": "narrative-walnut",
   "metadata": {
    "id": "narrative-walnut"
   },
   "source": [
    "# Using CMR to View Cloud-Hosted Datasets\n",
    "### Author: Chris Battisto\n",
    "### Date Authored: 1-31-22\n",
    "\n",
    "### Timing\n",
    "\n",
    "Exercise: 15 minutes\n",
    "\n",
    "### Overview\n",
    "\n",
    "This notebook demonstrates how to access cloud-hosted GES DISC granules using the [Commmon Metadata Repository (CMR) API](https://cmr.earthdata.nasa.gov/search/site/docs/search/api.html), before comparing them with their equivalent on-prem hosted granule.\n",
    "\n",
    "### Prerequisites\n",
    "\n",
    "This notebook was written using Python 3.8, and requires these libraries and files: \n",
    "- xarray\n",
    "- S3FS\n",
    "\n",
    "Note: This notebook **will only run in an environment with <code>us-west-2</code> AWS region access**."
   ]
  },
  {
   "cell_type": "markdown",
   "id": "t41Inu8NiQiX",
   "metadata": {
    "id": "t41Inu8NiQiX"
   },
   "source": [
    "### Import Libraries"
   ]
  },
  {
   "cell_type": "code",
   "execution_count": null,
   "id": "seeing-tonight",
   "metadata": {
    "id": "seeing-tonight"
   },
   "outputs": [],
   "source": [
    "#\n"
   ]
  },
  {
   "cell_type": "markdown",
   "id": "russian-night",
   "metadata": {
    "id": "russian-night"
   },
   "source": [
    "### Create a Function for CMR Catalog Requests"
   ]
  },
  {
   "cell_type": "code",
   "execution_count": null,
   "id": "certified-gather",
   "metadata": {
    "id": "certified-gather"
   },
   "outputs": [],
   "source": [
    "#"
   ]
  },
  {
   "cell_type": "markdown",
   "id": "breathing-oxide",
   "metadata": {
    "id": "breathing-oxide"
   },
   "source": [
    "### Search CMR Catalogs and Obtain Data URLs\n",
    "\n",
    "First, check that the CMR catalog can be accessed:"
   ]
  },
  {
   "cell_type": "code",
   "execution_count": null,
   "id": "introductory-wyoming",
   "metadata": {
    "id": "introductory-wyoming",
    "outputId": "403cd50f-10f9-4bc1-ace1-c623d81345f0"
   },
   "outputs": [],
   "source": [
    "#"
   ]
  },
  {
   "cell_type": "markdown",
   "id": "military-basket",
   "metadata": {
    "id": "military-basket"
   },
   "source": [
    "Lets see how many cloud-hosted data collections are currently in the GES DISC CMR catalog:"
   ]
  },
  {
   "cell_type": "code",
   "execution_count": null,
   "id": "quantitative-appreciation",
   "metadata": {
    "id": "quantitative-appreciation",
    "outputId": "dbc08e57-8b76-4c05-f08a-b57d60c905d0"
   },
   "outputs": [],
   "source": [
    "#"
   ]
  },
  {
   "cell_type": "markdown",
   "id": "fatal-outside",
   "metadata": {
    "id": "fatal-outside"
   },
   "source": [
    "Here are the current GES DISC datasets available in the cloud as of March 2022:"
   ]
  },
  {
   "cell_type": "code",
   "execution_count": null,
   "id": "finished-alignment",
   "metadata": {
    "id": "finished-alignment",
    "outputId": "8cd0299f-cee9-4427-fcdf-d54ad9cb94c2"
   },
   "outputs": [],
   "source": [
    "#"
   ]
  },
  {
   "cell_type": "markdown",
   "id": "honey-impact",
   "metadata": {
    "id": "honey-impact"
   },
   "source": [
    "After sifting through the returned JSON response, we can get our on-prem links for both datasets. Alternately, data can be subset and then downloaded with wget/cURL by generating OPeNDAP links with the GES DISC subsetting tool."
   ]
  },
  {
   "cell_type": "code",
   "execution_count": null,
   "id": "sustainable-circle",
   "metadata": {
    "id": "sustainable-circle",
    "outputId": "fee4724d-37a4-463d-ff66-00b97192b098"
   },
   "outputs": [],
   "source": [
    "#"
   ]
  },
  {
   "cell_type": "code",
   "execution_count": null,
   "id": "convertible-eligibility",
   "metadata": {
    "id": "convertible-eligibility",
    "outputId": "5b0d86c1-95c8-49ac-a809-1446cc2ed96f"
   },
   "outputs": [],
   "source": [
    "#"
   ]
  },
  {
   "cell_type": "markdown",
   "id": "independent-triple",
   "metadata": {
    "id": "independent-triple"
   },
   "source": [
    "### Obtain S3 credentials and bucket links"
   ]
  },
  {
   "cell_type": "markdown",
   "id": "fresh-reunion",
   "metadata": {
    "id": "fresh-reunion"
   },
   "source": [
    "Remember that the credential token requires a previously generated netrc file, and that it will only last for one hour before needing to be regenerated."
   ]
  },
  {
   "cell_type": "code",
   "execution_count": null,
   "id": "determined-confidentiality",
   "metadata": {
    "id": "determined-confidentiality",
    "outputId": "095a4f92-0363-4440-d6d2-2a177cd63099"
   },
   "outputs": [],
   "source": [
    "#"
   ]
  },
  {
   "cell_type": "markdown",
   "id": "turned-imagination",
   "metadata": {
    "id": "turned-imagination"
   },
   "source": [
    "S3 URLs currently cannot be obtained through the CMR API; instead, they are accessed manually through the Earthdata Cloud search tool, or OPeNDAP, which will be preserved. These dataset directories can have their parent link switched to S3 (for example, change <code>https://goldsmr4.gesdisc.eosdis.nasa.gov/data/MERRA2/</code> to <code>s3://gesdisc-cumulus-prod-protected/MERRA2/</code> for easily switching between cloud-hosted and on-prem data. Remember that datasets like GPM IMERG may have different file organization structures, and it is recommended to use the GES DISC subsetting tool, CMR, or Earthdata Search to generate links.\n",
    "\n",
    "Now that all of our links are obtained, we can open them up in Xarray for comparisons."
   ]
  },
  {
   "cell_type": "code",
   "execution_count": null,
   "id": "sustained-glass",
   "metadata": {
    "id": "sustained-glass"
   },
   "outputs": [],
   "source": [
    "#"
   ]
  },
  {
   "cell_type": "markdown",
   "id": "banner-documentary",
   "metadata": {
    "id": "banner-documentary"
   },
   "source": [
    "### Check that the datasets are the same\n",
    "\n",
    "First, check if the MERRA-2 dataset is the same:"
   ]
  },
  {
   "cell_type": "code",
   "execution_count": null,
   "id": "prescription-arbor",
   "metadata": {
    "id": "prescription-arbor",
    "outputId": "08c2aa61-8463-4d01-cdcd-ce3759042b5d"
   },
   "outputs": [],
   "source": [
    "#"
   ]
  },
  {
   "cell_type": "markdown",
   "id": "theoretical-channel",
   "metadata": {
    "id": "theoretical-channel"
   },
   "source": [
    "Finally, see if the GPM IMERG datasets are the same: "
   ]
  },
  {
   "cell_type": "code",
   "execution_count": null,
   "id": "amber-lawrence",
   "metadata": {
    "id": "amber-lawrence",
    "outputId": "b5bb9a2a-49a4-41c9-a579-f21386649867"
   },
   "outputs": [],
   "source": [
    "#"
   ]
  },
  {
   "cell_type": "code",
   "execution_count": null,
   "id": "veterinary-orchestra",
   "metadata": {
    "id": "veterinary-orchestra"
   },
   "outputs": [],
   "source": []
  }
 ],
 "metadata": {
  "colab": {
   "name": "CMR_Cloud_Search.ipynb",
   "provenance": []
  },
  "kernelspec": {
   "display_name": "Python 3",
   "language": "python",
   "name": "python3"
  },
  "language_info": {
   "codemirror_mode": {
    "name": "ipython",
    "version": 3
   },
   "file_extension": ".py",
   "mimetype": "text/x-python",
   "name": "python",
   "nbconvert_exporter": "python",
   "pygments_lexer": "ipython3",
   "version": "3.8.8"
  }
 },
 "nbformat": 4,
 "nbformat_minor": 5
}
