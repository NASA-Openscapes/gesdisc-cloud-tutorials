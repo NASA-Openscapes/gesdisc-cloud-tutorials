{
 "cells": [
  {
   "cell_type": "markdown",
   "id": "narrative-walnut",
   "metadata": {
    "id": "narrative-walnut"
   },
   "source": [
    "# Using CMR to View Cloud-Hosted Datasets\n",
    "### Author: Chris Battisto\n",
    "### Date Authored: 1-31-22\n",
    "\n",
    "### Timing\n",
    "\n",
    "Exercise: 15 minutes\n",
    "\n",
    "### Overview\n",
    "\n",
    "This notebook demonstrates how to access cloud-hosted GES DISC granules using the [Commmon Metadata Repository (CMR) API](https://cmr.earthdata.nasa.gov/search/site/docs/search/api.html), before comparing them with their equivalent on-prem hosted granule.\n",
    "\n",
    "### Prerequisites\n",
    "\n",
    "This notebook was written using Python 3.8, and requires these libraries and files: \n",
    "- xarray\n",
    "- S3FS\n",
    "\n",
    "Note: This notebook **will only run in an environment with <code>us-west-2</code> AWS region access**."
   ]
  },
  {
   "cell_type": "markdown",
   "id": "t41Inu8NiQiX",
   "metadata": {
    "id": "t41Inu8NiQiX"
   },
   "source": [
    "### Import Libraries"
   ]
  },
  {
   "cell_type": "code",
   "execution_count": 1,
   "id": "seeing-tonight",
   "metadata": {
    "id": "seeing-tonight"
   },
   "outputs": [],
   "source": [
    "import requests\n",
    "import xarray as xr\n",
    "import s3fs\n"
   ]
  },
  {
   "cell_type": "markdown",
   "id": "russian-night",
   "metadata": {
    "id": "russian-night"
   },
   "source": [
    "### Create a Function for CMR Catalog Requests"
   ]
  },
  {
   "cell_type": "code",
   "execution_count": 2,
   "id": "certified-gather",
   "metadata": {
    "id": "certified-gather"
   },
   "outputs": [],
   "source": [
    "def request_collection(params):\n",
    "    response = requests.get(url,\n",
    "                        params=params,\n",
    "                        headers={\n",
    "                            'Accept': 'application/json',\n",
    "                        }\n",
    "                       )\n",
    "    return response"
   ]
  },
  {
   "cell_type": "markdown",
   "id": "breathing-oxide",
   "metadata": {
    "id": "breathing-oxide"
   },
   "source": [
    "### Search CMR Catalogs and Obtain Data URLs\n",
    "\n",
    "First, check that the CMR catalog can be accessed:"
   ]
  },
  {
   "cell_type": "code",
   "execution_count": 3,
   "id": "introductory-wyoming",
   "metadata": {
    "id": "introductory-wyoming",
    "outputId": "403cd50f-10f9-4bc1-ace1-c623d81345f0"
   },
   "outputs": [
    {
     "name": "stdout",
     "output_type": "stream",
     "text": [
      "200, CMR is accessible\n"
     ]
    }
   ],
   "source": [
    "url = 'https://cmr.earthdata.nasa.gov/search/collections'\n",
    "\n",
    "# Create our request for finding cloud-hosted granules, and check that we can access CMR\n",
    "response = request_collection({\n",
    "                            'cloud_hosted': 'True',\n",
    "                            'has_granules': 'True'\n",
    "                            })\n",
    "\n",
    "if response.status_code == 200:\n",
    "    print(str(response.status_code) + \", CMR is accessible\")\n",
    "else:\n",
    "    print(str(response.status_code) + \", CMR is not accessible, check for outages\")"
   ]
  },
  {
   "cell_type": "markdown",
   "id": "military-basket",
   "metadata": {
    "id": "military-basket"
   },
   "source": [
    "Lets see how many cloud-hosted data collections are currently in the GES DISC CMR catalog:"
   ]
  },
  {
   "cell_type": "code",
   "execution_count": 4,
   "id": "quantitative-appreciation",
   "metadata": {
    "id": "quantitative-appreciation",
    "outputId": "dbc08e57-8b76-4c05-f08a-b57d60c905d0"
   },
   "outputs": [
    {
     "name": "stdout",
     "output_type": "stream",
     "text": [
      "10\n"
     ]
    }
   ],
   "source": [
    "\n",
    "provider = 'GES_DISC'\n",
    "response = request_collection({\n",
    "                            'cloud_hosted': 'True',\n",
    "                            'has_granules': 'True',\n",
    "                            'provider': provider, # Only look for data hosted by GES-DISC\n",
    "                            })\n",
    "\n",
    "# See how many hits are returned\n",
    "hits = int(response.headers['cmr-hits'])\n",
    "print(hits)"
   ]
  },
  {
   "cell_type": "markdown",
   "id": "fatal-outside",
   "metadata": {
    "id": "fatal-outside"
   },
   "source": [
    "Here are the current GES DISC datasets available in the cloud as of March 2022:"
   ]
  },
  {
   "cell_type": "code",
   "execution_count": 6,
   "id": "finished-alignment",
   "metadata": {
    "id": "finished-alignment",
    "outputId": "8cd0299f-cee9-4427-fcdf-d54ad9cb94c2"
   },
   "outputs": [
    {
     "name": "stdout",
     "output_type": "stream",
     "text": [
      "MERRA-2 tavg1_2d_slv_Nx: 2d,1-Hourly,Time-Averaged,Single-Level,Assimilation,Single-Level Diagnostics 0.625 x 0.5 degree V5.12.4 (M2T1NXSLV) at GES DISC\n",
      "GPM IMERG Final Precipitation L3 Half Hourly 0.1 degree x 0.1 degree V06 (GPM_3IMERGHH) at GES DISC\n",
      "Sounder SIPS: Sun Synchronous 13:30 orbit Climate Hyperspectral InfraRed Product (CHIRP): Calibrated Radiances from EOS-Aqua, S-NPP, JPSS-1/NOAA-20, V2 (SNDR13CHRP1) at GES DISC\n",
      "Sounder SIPS: Sun Synchronous 13:30 orbit Climate Hyperspectral InfraRed Product (CHIRP): Calibrated Radiances from EOS-Aqua, V2 (SNDR13CHRP1AQCal) at GES DISC\n",
      "Sounder SIPS: Sun Synchronous 13:30 orbit Climate Hyperspectral InfraRed Product (CHIRP): Calibrated Radiances from JPSS-1/NOAA-20, V2 (SNDR13CHRP1J1Cal) at GES DISC\n",
      "Sounder SIPS: Sun Synchronous 13:30 orbit Climate Hyperspectral InfraRed Product (CHIRP): Calibrated Radiances from S-NPP, V2 (SNDR13CHRP1SNCal) at GES DISC\n",
      "Sounder SIPS: AQUA AIRS IR + MW Level 2 CLIMCAPS: Atmosphere, cloud and surface geophysical state V2 at GES DISC\n",
      "Sounder SIPS: JPSS-1 CrIS Level 2 CLIMCAPS: Atmosphere cloud and surface geophysical state V2 at GES DISC\n",
      "Sounder SIPS: Suomi NPP CrIMSS Level 2 CLIMCAPS Full Spectral Resolution: Atmosphere cloud and surface geophysical state V2 at GES DISC\n",
      "Sounder SIPS: Suomi NPP CrIMSS Level 2 CLIMCAPS Normal Spectral Resolution: Atmosphere cloud and surface geophysical state V2 at GES DISC\n"
     ]
    }
   ],
   "source": [
    "for hit in range(0, hits):\n",
    "    print(response.json()['feed']['entry'][hit]['dataset_id'])"
   ]
  },
  {
   "cell_type": "markdown",
   "id": "honey-impact",
   "metadata": {
    "id": "honey-impact"
   },
   "source": [
    "After sifting through the returned JSON response, we can get our on-prem links for both datasets. Alternately, data can be subset and then downloaded with wget/cURL by generating OPeNDAP links with the GES DISC subsetting tool."
   ]
  },
  {
   "cell_type": "code",
   "execution_count": 10,
   "id": "sustainable-circle",
   "metadata": {
    "id": "sustainable-circle",
    "outputId": "fee4724d-37a4-463d-ff66-00b97192b098"
   },
   "outputs": [
    {
     "data": {
      "text/plain": [
       "{'rel': 'http://esipfed.org/ns/fedsearch/1.1/service#',\n",
       " 'hreflang': 'en-US',\n",
       " 'href': 'https://goldsmr4.gesdisc.eosdis.nasa.gov/opendap/MERRA2/M2T1NXSLV.5.12.4/contents.html'}"
      ]
     },
     "execution_count": 10,
     "metadata": {},
     "output_type": "execute_result"
    }
   ],
   "source": [
    "# First, for MERRA-2\n",
    "response.json()['feed']['entry'][0]['links'][7]"
   ]
  },
  {
   "cell_type": "code",
   "execution_count": 9,
   "id": "convertible-eligibility",
   "metadata": {
    "id": "convertible-eligibility",
    "outputId": "5b0d86c1-95c8-49ac-a809-1446cc2ed96f"
   },
   "outputs": [
    {
     "data": {
      "text/plain": [
       "{'rel': 'http://esipfed.org/ns/fedsearch/1.1/service#',\n",
       " 'hreflang': 'en-US',\n",
       " 'href': 'https://gpm1.gesdisc.eosdis.nasa.gov/opendap/GPM_L3/GPM_3IMERGHH.06/contents.html'}"
      ]
     },
     "execution_count": 9,
     "metadata": {},
     "output_type": "execute_result"
    }
   ],
   "source": [
    "# Then for GPM_IMERG\n",
    "response.json()['feed']['entry'][1]['links'][4]"
   ]
  },
  {
   "cell_type": "markdown",
   "id": "independent-triple",
   "metadata": {
    "id": "independent-triple"
   },
   "source": [
    "### Obtain S3 credentials and bucket links"
   ]
  },
  {
   "cell_type": "markdown",
   "id": "fresh-reunion",
   "metadata": {
    "id": "fresh-reunion"
   },
   "source": [
    "Remember that the credential token requires a previously generated netrc file, and that it will only last for one hour before needing to be regenerated."
   ]
  },
  {
   "cell_type": "code",
   "execution_count": null,
   "id": "determined-confidentiality",
   "metadata": {
    "id": "determined-confidentiality",
    "outputId": "095a4f92-0363-4440-d6d2-2a177cd63099"
   },
   "outputs": [
    {
     "data": {
      "text/plain": [
       "s3fs.core.S3FileSystem"
      ]
     },
     "execution_count": 8,
     "metadata": {},
     "output_type": "execute_result"
    }
   ],
   "source": [
    "gesdisc_s3 = \"https://data.gesdisc.earthdata.nasa.gov/s3credentials\"\n",
    "\n",
    "# Define a function for S3 access credentials\n",
    "\n",
    "def begin_s3_direct_access(url: str=gesdisc_s3):\n",
    "    response = requests.get(url).json()\n",
    "    return s3fs.S3FileSystem(key=response['accessKeyId'],\n",
    "                             secret=response['secretAccessKey'],\n",
    "                             token=response['sessionToken'],\n",
    "                             client_kwargs={'region_name':'us-west-2'})\n",
    "\n",
    "fs = begin_s3_direct_access()\n",
    "\n",
    "# Check that the file system is intact as an S3FileSystem object, which means that token is valid\n",
    "# Common causes of rejected S3 access tokens include incorrect passwords stored in the netrc file, or a non-existent netrc file\n",
    "type(fs)"
   ]
  },
  {
   "cell_type": "markdown",
   "id": "turned-imagination",
   "metadata": {
    "id": "turned-imagination"
   },
   "source": [
    "S3 URLs currently cannot be obtained through the CMR API; instead, they are accessed manually through the Earthdata Cloud search tool, or OPeNDAP, which will be preserved. These dataset directories can have their parent link switched to S3 (for example, change <code>https://goldsmr4.gesdisc.eosdis.nasa.gov/data/MERRA2/</code> to <code>s3://gesdisc-cumulus-prod-protected/MERRA2/</code> for easily switching between cloud-hosted and on-prem data. Remember that datasets like GPM IMERG may have different file organization structures, and it is recommended to use the GES DISC subsetting tool, CMR, or Earthdata Search to generate links.\n",
    "\n",
    "Now that all of our links are obtained, we can open them up in Xarray for comparisons."
   ]
  },
  {
   "cell_type": "code",
   "execution_count": null,
   "id": "sustained-glass",
   "metadata": {
    "id": "sustained-glass"
   },
   "outputs": [],
   "source": [
    "# S3 GPM IMERG and MERRA-2 bucket datasets, both from 31 May 2013 at separate times\n",
    "\n",
    "merra_fn = 's3://gesdisc-cumulus-prod-protected/MERRA2/M2T1NXSLV.5.12.4/2013/05/MERRA2_400.tavg1_2d_slv_Nx.20130531.nc4'\n",
    "imerg_fn = 's3://gesdisc-cumulus-prod-protected/GPM_L3/GPM_3IMERGHH.06/2013/151/3B-HHR.MS.MRG.3IMERG.20130531-S000000-E002959.0000.V06B.HDF5'\n",
    "\n",
    "ds_merra_s3 = xr.open_dataset(fs.open(merra_fn),\n",
    "                              decode_cf=True,)\n",
    "\n",
    "ds_imerg_s3 = xr.open_dataset(fs.open(imerg_fn),\n",
    "                              decode_cf=True,\n",
    "                              engine='h5netcdf')"
   ]
  },
  {
   "cell_type": "markdown",
   "id": "banner-documentary",
   "metadata": {
    "id": "banner-documentary"
   },
   "source": [
    "### Check that the datasets are the same\n",
    "\n",
    "First, check if the MERRA-2 dataset is the same:"
   ]
  },
  {
   "cell_type": "code",
   "execution_count": null,
   "id": "prescription-arbor",
   "metadata": {
    "id": "prescription-arbor",
    "outputId": "08c2aa61-8463-4d01-cdcd-ce3759042b5d"
   },
   "outputs": [
    {
     "name": "stdout",
     "output_type": "stream",
     "text": [
      "The on-prem and S3 datasets are equal and intact!\n"
     ]
    }
   ],
   "source": [
    "ds_merra_on_prem = xr.open_dataset(\"https://goldsmr4.gesdisc.eosdis.nasa.gov/opendap/MERRA2/M2T1NXSLV.5.12.4/2013/05/MERRA2_400.tavg1_2d_slv_Nx.20130531.nc4\",\n",
    "                                  decode_cf=True,)\n",
    "\n",
    "# Always use equals() for checking if Xarray datasets are identical\n",
    "if ds_merra_s3.equals(ds_merra_on_prem):\n",
    "    print('The on-prem and S3 datasets are equal and intact!')"
   ]
  },
  {
   "cell_type": "markdown",
   "id": "theoretical-channel",
   "metadata": {
    "id": "theoretical-channel"
   },
   "source": [
    "Finally, see if the GPM IMERG datasets are the same: "
   ]
  },
  {
   "cell_type": "code",
   "execution_count": null,
   "id": "amber-lawrence",
   "metadata": {
    "id": "amber-lawrence",
    "outputId": "b5bb9a2a-49a4-41c9-a579-f21386649867"
   },
   "outputs": [
    {
     "name": "stdout",
     "output_type": "stream",
     "text": [
      "The on-prem and S3 datasets are equal and intact!\n"
     ]
    }
   ],
   "source": [
    "ds_imerg_on_prem = xr.open_dataset(\"https://gpm1.gesdisc.eosdis.nasa.gov/opendap/GPM_L3/GPM_3IMERGHH.06/2013/151/3B-HHR.MS.MRG.3IMERG.20130531-S000000-E002959.0000.V06B.HDF5\",\n",
    "                                  decode_cf=True,\n",
    "                                  engine='h5netcdf')\n",
    "\n",
    "if ds_imerg_s3.equals(ds_imerg_on_prem):\n",
    "    print('The on-prem and S3 datasets are equal and intact!')"
   ]
  },
  {
   "cell_type": "code",
   "execution_count": null,
   "id": "veterinary-orchestra",
   "metadata": {
    "id": "veterinary-orchestra"
   },
   "outputs": [],
   "source": []
  }
 ],
 "metadata": {
  "colab": {
   "name": "CMR_Cloud_Search.ipynb",
   "provenance": []
  },
  "kernelspec": {
   "display_name": "Python 3",
   "language": "python",
   "name": "python3"
  },
  "language_info": {
   "codemirror_mode": {
    "name": "ipython",
    "version": 3
   },
   "file_extension": ".py",
   "mimetype": "text/x-python",
   "name": "python",
   "nbconvert_exporter": "python",
   "pygments_lexer": "ipython3",
   "version": "3.8.8"
  }
 },
 "nbformat": 4,
 "nbformat_minor": 5
}
